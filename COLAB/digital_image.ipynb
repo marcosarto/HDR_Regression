{
  "nbformat": 4,
  "nbformat_minor": 0,
  "metadata": {
    "kernelspec": {
      "display_name": "Python 3",
      "language": "python",
      "name": "python3"
    },
    "language_info": {
      "codemirror_mode": {
        "name": "ipython",
        "version": 3
      },
      "file_extension": ".py",
      "mimetype": "text/x-python",
      "name": "python",
      "nbconvert_exporter": "python",
      "pygments_lexer": "ipython3",
      "version": "3.8.5"
    },
    "colab": {
      "name": "digital_image.ipynb",
      "provenance": [],
      "collapsed_sections": [
        "1BkA5ryhHP9X",
        "QqeLdDrAHP9Y",
        "d6niBdJvHP9Z",
        "gO5SIllnHP9a",
        "AUlOHUrOYUNr",
        "zdUeYTWYHP9Z",
        "34pWODw4HP9c",
        "jkubxmVYHP9d",
        "3m_gpu2JHP9g"
      ],
      "include_colab_link": true
    }
  },
  "cells": [
    {
      "cell_type": "markdown",
      "metadata": {
        "id": "view-in-github",
        "colab_type": "text"
      },
      "source": [
        "<a href=\"https://colab.research.google.com/github/marcosarto/HDR_Regression/blob/main/COLAB/digital_image.ipynb\" target=\"_parent\"><img src=\"https://colab.research.google.com/assets/colab-badge.svg\" alt=\"Open In Colab\"/></a>"
      ]
    },
    {
      "cell_type": "markdown",
      "metadata": {
        "id": "1BkA5ryhHP9X"
      },
      "source": [
        "## Import"
      ]
    },
    {
      "cell_type": "code",
      "metadata": {
        "id": "J2fP3f59HP9X"
      },
      "source": [
        "import matplotlib.pyplot as plt\n",
        "import numpy as np\n",
        "import pandas as pd\n",
        "\n",
        "# sklearn\n",
        "from sklearn.model_selection import train_test_split\n",
        "from sklearn.preprocessing import MinMaxScaler\n",
        "from sklearn.ensemble import GradientBoostingRegressor, RandomForestRegressor\n",
        "\n",
        "# TensorFlow\n",
        "from tensorflow import keras\n",
        "from tensorflow.keras import backend as K\n",
        "from tensorflow.keras.models import Sequential\n",
        "from tensorflow.keras.layers import BatchNormalization\n",
        "from tensorflow.keras.layers import Dense\n",
        "from tensorflow.keras.layers import Dropout\n",
        "from tensorflow.keras.optimizers import Adam\n",
        "\n",
        "import warnings\n",
        "warnings.filterwarnings(\"ignore\")"
      ],
      "execution_count": null,
      "outputs": []
    },
    {
      "cell_type": "code",
      "metadata": {
        "id": "sAOK2kMuYyfK"
      },
      "source": [
        "import os\n",
        "import graphviz\n",
        "import matplotlib.pyplot as plt\n",
        "import numpy as np\n",
        "from numpy import random\n",
        "import pandas as pd\n",
        "import seaborn as sns\n",
        "from tabulate import tabulate\n",
        "from sklearn import datasets, ensemble\n",
        "from sklearn.compose import ColumnTransformer\n",
        "from sklearn.impute import SimpleImputer\n",
        "from sklearn.svm import SVR\n",
        "from sklearn.metrics import classification_report, confusion_matrix, r2_score, make_scorer, accuracy_score, precision_score, recall_score\n",
        "from sklearn.model_selection import (\n",
        "    GridSearchCV,\n",
        "    StratifiedKFold,\n",
        "    cross_val_score,\n",
        "    train_test_split,\n",
        ")\n",
        "from sklearn.pipeline import Pipeline\n",
        "from sklearn.preprocessing import OneHotEncoder, StandardScaler\n",
        "from sklearn.tree import DecisionTreeClassifier, export_graphviz\n",
        "from sklearn.linear_model import LinearRegression\n",
        "from sklearn.model_selection import train_test_split\n",
        "from sklearn.model_selection import cross_val_score, cross_val_predict\n",
        "from sklearn import metrics\n",
        "from mlxtend.regressor import StackingCVRegressor, StackingRegressor\n",
        "from sklearn.decomposition import PCA\n",
        "from xgboost import XGBRegressor\n",
        "from scipy.spatial import distance\n",
        "import scipy.stats as stats\n",
        "from sklearn.model_selection import GridSearchCV\n",
        "from sklearn.linear_model import Ridge\n",
        "from sklearn.linear_model import Lasso\n",
        "from sklearn.ensemble import GradientBoostingRegressor, RandomForestRegressor\n",
        "from sklearn.ensemble import ExtraTreesRegressor\n",
        "from xgboost import plot_importance"
      ],
      "execution_count": null,
      "outputs": []
    },
    {
      "cell_type": "code",
      "metadata": {
        "id": "0V9lTvUXHP9Y"
      },
      "source": [
        " data = pd.read_csv('M100updated.csv')"
      ],
      "execution_count": null,
      "outputs": []
    },
    {
      "cell_type": "code",
      "metadata": {
        "colab": {
          "base_uri": "https://localhost:8080/",
          "height": 419
        },
        "id": "8mASI1J0PxRa",
        "outputId": "4ffdfd67-72d4-4234-bd54-bcd7dba104e8"
      },
      "source": [
        "data.head(100)"
      ],
      "execution_count": null,
      "outputs": [
        {
          "output_type": "execute_result",
          "data": {
            "text/html": [
              "<div>\n",
              "<style scoped>\n",
              "    .dataframe tbody tr th:only-of-type {\n",
              "        vertical-align: middle;\n",
              "    }\n",
              "\n",
              "    .dataframe tbody tr th {\n",
              "        vertical-align: top;\n",
              "    }\n",
              "\n",
              "    .dataframe thead th {\n",
              "        text-align: right;\n",
              "    }\n",
              "</style>\n",
              "<table border=\"1\" class=\"dataframe\">\n",
              "  <thead>\n",
              "    <tr style=\"text-align: right;\">\n",
              "      <th></th>\n",
              "      <th>id</th>\n",
              "      <th>x</th>\n",
              "      <th>y</th>\n",
              "      <th>csi</th>\n",
              "      <th>lambda</th>\n",
              "      <th>gamma</th>\n",
              "      <th>h</th>\n",
              "      <th>targetGlobale</th>\n",
              "      <th>target</th>\n",
              "    </tr>\n",
              "  </thead>\n",
              "  <tbody>\n",
              "    <tr>\n",
              "      <th>0</th>\n",
              "      <td>0</td>\n",
              "      <td>0</td>\n",
              "      <td>0</td>\n",
              "      <td>0.000000e+00</td>\n",
              "      <td>0.000000</td>\n",
              "      <td>0.000000</td>\n",
              "      <td>0.000000</td>\n",
              "      <td>0.000000</td>\n",
              "      <td>0.000000</td>\n",
              "    </tr>\n",
              "    <tr>\n",
              "      <th>1</th>\n",
              "      <td>3</td>\n",
              "      <td>24</td>\n",
              "      <td>84</td>\n",
              "      <td>6.543678e+12</td>\n",
              "      <td>89.750326</td>\n",
              "      <td>1.000000</td>\n",
              "      <td>4.817507</td>\n",
              "      <td>0.923444</td>\n",
              "      <td>0.097123</td>\n",
              "    </tr>\n",
              "    <tr>\n",
              "      <th>2</th>\n",
              "      <td>3</td>\n",
              "      <td>25</td>\n",
              "      <td>84</td>\n",
              "      <td>3.449374e+13</td>\n",
              "      <td>89.769260</td>\n",
              "      <td>1.000000</td>\n",
              "      <td>4.817507</td>\n",
              "      <td>0.923444</td>\n",
              "      <td>0.097123</td>\n",
              "    </tr>\n",
              "    <tr>\n",
              "      <th>3</th>\n",
              "      <td>3</td>\n",
              "      <td>26</td>\n",
              "      <td>84</td>\n",
              "      <td>7.319014e+13</td>\n",
              "      <td>90.345499</td>\n",
              "      <td>0.841395</td>\n",
              "      <td>4.817507</td>\n",
              "      <td>0.923444</td>\n",
              "      <td>0.097123</td>\n",
              "    </tr>\n",
              "    <tr>\n",
              "      <th>4</th>\n",
              "      <td>3</td>\n",
              "      <td>27</td>\n",
              "      <td>84</td>\n",
              "      <td>3.546188e+14</td>\n",
              "      <td>90.510596</td>\n",
              "      <td>0.841395</td>\n",
              "      <td>4.817507</td>\n",
              "      <td>0.923444</td>\n",
              "      <td>0.097123</td>\n",
              "    </tr>\n",
              "    <tr>\n",
              "      <th>...</th>\n",
              "      <td>...</td>\n",
              "      <td>...</td>\n",
              "      <td>...</td>\n",
              "      <td>...</td>\n",
              "      <td>...</td>\n",
              "      <td>...</td>\n",
              "      <td>...</td>\n",
              "      <td>...</td>\n",
              "      <td>...</td>\n",
              "    </tr>\n",
              "    <tr>\n",
              "      <th>95</th>\n",
              "      <td>5</td>\n",
              "      <td>28</td>\n",
              "      <td>123</td>\n",
              "      <td>9.016937e+15</td>\n",
              "      <td>93.223435</td>\n",
              "      <td>0.421697</td>\n",
              "      <td>3.601694</td>\n",
              "      <td>0.923444</td>\n",
              "      <td>0.000000</td>\n",
              "    </tr>\n",
              "    <tr>\n",
              "      <th>96</th>\n",
              "      <td>5</td>\n",
              "      <td>29</td>\n",
              "      <td>123</td>\n",
              "      <td>3.563771e+16</td>\n",
              "      <td>99.246739</td>\n",
              "      <td>0.251189</td>\n",
              "      <td>3.601694</td>\n",
              "      <td>0.923444</td>\n",
              "      <td>0.000000</td>\n",
              "    </tr>\n",
              "    <tr>\n",
              "      <th>97</th>\n",
              "      <td>5</td>\n",
              "      <td>24</td>\n",
              "      <td>124</td>\n",
              "      <td>1.887366e+11</td>\n",
              "      <td>89.937138</td>\n",
              "      <td>0.421697</td>\n",
              "      <td>3.601694</td>\n",
              "      <td>0.923444</td>\n",
              "      <td>0.000000</td>\n",
              "    </tr>\n",
              "    <tr>\n",
              "      <th>98</th>\n",
              "      <td>5</td>\n",
              "      <td>25</td>\n",
              "      <td>124</td>\n",
              "      <td>4.743198e+12</td>\n",
              "      <td>90.639986</td>\n",
              "      <td>1.000000</td>\n",
              "      <td>3.601694</td>\n",
              "      <td>0.923444</td>\n",
              "      <td>0.000000</td>\n",
              "    </tr>\n",
              "    <tr>\n",
              "      <th>99</th>\n",
              "      <td>5</td>\n",
              "      <td>26</td>\n",
              "      <td>124</td>\n",
              "      <td>1.859400e+14</td>\n",
              "      <td>91.021653</td>\n",
              "      <td>1.000000</td>\n",
              "      <td>3.601694</td>\n",
              "      <td>0.923444</td>\n",
              "      <td>0.000000</td>\n",
              "    </tr>\n",
              "  </tbody>\n",
              "</table>\n",
              "<p>100 rows × 9 columns</p>\n",
              "</div>"
            ],
            "text/plain": [
              "    id   x    y           csi  ...     gamma         h  targetGlobale    target\n",
              "0    0   0    0  0.000000e+00  ...  0.000000  0.000000       0.000000  0.000000\n",
              "1    3  24   84  6.543678e+12  ...  1.000000  4.817507       0.923444  0.097123\n",
              "2    3  25   84  3.449374e+13  ...  1.000000  4.817507       0.923444  0.097123\n",
              "3    3  26   84  7.319014e+13  ...  0.841395  4.817507       0.923444  0.097123\n",
              "4    3  27   84  3.546188e+14  ...  0.841395  4.817507       0.923444  0.097123\n",
              "..  ..  ..  ...           ...  ...       ...       ...            ...       ...\n",
              "95   5  28  123  9.016937e+15  ...  0.421697  3.601694       0.923444  0.000000\n",
              "96   5  29  123  3.563771e+16  ...  0.251189  3.601694       0.923444  0.000000\n",
              "97   5  24  124  1.887366e+11  ...  0.421697  3.601694       0.923444  0.000000\n",
              "98   5  25  124  4.743198e+12  ...  1.000000  3.601694       0.923444  0.000000\n",
              "99   5  26  124  1.859400e+14  ...  1.000000  3.601694       0.923444  0.000000\n",
              "\n",
              "[100 rows x 9 columns]"
            ]
          },
          "metadata": {
            "tags": []
          },
          "execution_count": 13
        }
      ]
    },
    {
      "cell_type": "markdown",
      "metadata": {
        "id": "QqeLdDrAHP9Y"
      },
      "source": [
        "## Normalizzazione tra 0 - 1\n",
        "\n",
        "Sottraggo la media e divido per la deviazione standard"
      ]
    },
    {
      "cell_type": "code",
      "metadata": {
        "id": "0_UyRCT_HP9Z"
      },
      "source": [
        "def scale_data(X_train, X_test):\n",
        "    \"Scalo i dati tra 0-1 in base al loro valore nel dataframe\"\n",
        "    \n",
        "    sc = MinMaxScaler()\n",
        "\n",
        "    sc.fit(X_train)\n",
        "\n",
        "    train_sc = sc.transform(X_train)\n",
        "    test_sc = sc.transform(X_test)\n",
        "    \n",
        "    return train_sc, test_sc"
      ],
      "execution_count": null,
      "outputs": []
    },
    {
      "cell_type": "markdown",
      "metadata": {
        "id": "d6niBdJvHP9Z"
      },
      "source": [
        "## Load data"
      ]
    },
    {
      "cell_type": "code",
      "metadata": {
        "id": "JW7FDsgHHP9Z"
      },
      "source": [
        "# Pongo i dati a float (per fare poi la normalizzazione)\n",
        "data = data.astype(float)\n",
        "data.drop('id', inplace=True, axis=1)\n",
        "data.drop('x', inplace=True, axis=1) # Per ora non ci interessano le coordinate dei pixel\n",
        "data.drop('y', inplace=True, axis=1)\n",
        "X = data.drop('target',axis=1) # Colonne PassengerId inutile, survived viene salvata in y\n",
        "y = data['target']"
      ],
      "execution_count": null,
      "outputs": []
    },
    {
      "cell_type": "code",
      "metadata": {
        "colab": {
          "base_uri": "https://localhost:8080/",
          "height": 205
        },
        "id": "3FFD2-lMhNkE",
        "outputId": "08272bc6-e14b-4cf0-952b-b32fdbe0ed0b"
      },
      "source": [
        "data.head()"
      ],
      "execution_count": null,
      "outputs": [
        {
          "output_type": "execute_result",
          "data": {
            "text/html": [
              "<div>\n",
              "<style scoped>\n",
              "    .dataframe tbody tr th:only-of-type {\n",
              "        vertical-align: middle;\n",
              "    }\n",
              "\n",
              "    .dataframe tbody tr th {\n",
              "        vertical-align: top;\n",
              "    }\n",
              "\n",
              "    .dataframe thead th {\n",
              "        text-align: right;\n",
              "    }\n",
              "</style>\n",
              "<table border=\"1\" class=\"dataframe\">\n",
              "  <thead>\n",
              "    <tr style=\"text-align: right;\">\n",
              "      <th></th>\n",
              "      <th>csi</th>\n",
              "      <th>lambda</th>\n",
              "      <th>gamma</th>\n",
              "      <th>target</th>\n",
              "    </tr>\n",
              "  </thead>\n",
              "  <tbody>\n",
              "    <tr>\n",
              "      <th>0</th>\n",
              "      <td>1.106158e+11</td>\n",
              "      <td>90.448581</td>\n",
              "      <td>1.000000</td>\n",
              "      <td>0.002449</td>\n",
              "    </tr>\n",
              "    <tr>\n",
              "      <th>1</th>\n",
              "      <td>8.642282e+12</td>\n",
              "      <td>90.691404</td>\n",
              "      <td>1.000000</td>\n",
              "      <td>0.002449</td>\n",
              "    </tr>\n",
              "    <tr>\n",
              "      <th>2</th>\n",
              "      <td>5.824539e+14</td>\n",
              "      <td>91.415581</td>\n",
              "      <td>1.000000</td>\n",
              "      <td>0.002449</td>\n",
              "    </tr>\n",
              "    <tr>\n",
              "      <th>3</th>\n",
              "      <td>6.115049e+14</td>\n",
              "      <td>93.022131</td>\n",
              "      <td>0.421697</td>\n",
              "      <td>0.002449</td>\n",
              "    </tr>\n",
              "    <tr>\n",
              "      <th>4</th>\n",
              "      <td>2.352717e+16</td>\n",
              "      <td>93.244068</td>\n",
              "      <td>0.421697</td>\n",
              "      <td>0.002449</td>\n",
              "    </tr>\n",
              "  </tbody>\n",
              "</table>\n",
              "</div>"
            ],
            "text/plain": [
              "            csi     lambda     gamma    target\n",
              "0  1.106158e+11  90.448581  1.000000  0.002449\n",
              "1  8.642282e+12  90.691404  1.000000  0.002449\n",
              "2  5.824539e+14  91.415581  1.000000  0.002449\n",
              "3  6.115049e+14  93.022131  0.421697  0.002449\n",
              "4  2.352717e+16  93.244068  0.421697  0.002449"
            ]
          },
          "metadata": {
            "tags": []
          },
          "execution_count": 11
        }
      ]
    },
    {
      "cell_type": "markdown",
      "metadata": {
        "id": "gO5SIllnHP9a"
      },
      "source": [
        "## Split and Scale data"
      ]
    },
    {
      "cell_type": "code",
      "metadata": {
        "id": "4IuWLDNMHP9b"
      },
      "source": [
        "# Divido tra train e validation\n",
        "X_train, X_test, y_train, y_test = train_test_split(\n",
        "    X, y, test_size = 0.25, random_state=42)\n",
        "\n",
        "# Scalo tra 0 e 1\n",
        "X_train_sc, X_test_sc = scale_data(X_train, X_test)"
      ],
      "execution_count": null,
      "outputs": []
    },
    {
      "cell_type": "markdown",
      "metadata": {
        "id": "AUlOHUrOYUNr"
      },
      "source": [
        "# Gradient Boosting Regressor (Matteo)"
      ]
    },
    {
      "cell_type": "markdown",
      "metadata": {
        "id": "GHiScnjWHEIv"
      },
      "source": [
        "Applichiamo ora il Gradient Boosting Regression, un algoritmo più sofisticato visto a lezione."
      ]
    },
    {
      "cell_type": "code",
      "metadata": {
        "id": "-5vphRvxTVBA",
        "colab": {
          "base_uri": "https://localhost:8080/"
        },
        "outputId": "79ed9fd4-5bb9-4c8b-8232-e3d8a014b0c2"
      },
      "source": [
        "params = {'n_estimators': 3000,\n",
        "          'max_depth': 4,\n",
        "          'max_features': 'sqrt',\n",
        "          'min_samples_leaf': 15,\n",
        "          'min_samples_split': 10,\n",
        "          'learning_rate': 0.05,\n",
        "          'loss': 'huber',\n",
        "          'random_state':42}\n",
        "gbr = ensemble.GradientBoostingRegressor(**params)\n",
        "gbr.fit(X_train_sc, y_train)\n"
      ],
      "execution_count": null,
      "outputs": [
        {
          "output_type": "execute_result",
          "data": {
            "text/plain": [
              "GradientBoostingRegressor(alpha=0.9, ccp_alpha=0.0, criterion='friedman_mse',\n",
              "                          init=None, learning_rate=0.05, loss='huber',\n",
              "                          max_depth=4, max_features='sqrt', max_leaf_nodes=None,\n",
              "                          min_impurity_decrease=0.0, min_impurity_split=None,\n",
              "                          min_samples_leaf=15, min_samples_split=10,\n",
              "                          min_weight_fraction_leaf=0.0, n_estimators=3000,\n",
              "                          n_iter_no_change=None, presort='deprecated',\n",
              "                          random_state=42, subsample=1.0, tol=0.0001,\n",
              "                          validation_fraction=0.1, verbose=0, warm_start=False)"
            ]
          },
          "metadata": {
            "tags": []
          },
          "execution_count": 30
        }
      ]
    },
    {
      "cell_type": "markdown",
      "metadata": {
        "id": "BkiQNud0QPrT"
      },
      "source": [
        "Utilizziamo la tecnica della Grid-Search per verificare quale sia effettivamente il modello migliore in base ai parametri inseriti"
      ]
    },
    {
      "cell_type": "code",
      "metadata": {
        "id": "7g66nvJ2rmXX",
        "colab": {
          "base_uri": "https://localhost:8080/"
        },
        "outputId": "38406b3a-69bb-41d3-80ce-d257a6f1d6f5"
      },
      "source": [
        "param_grid = {'n_estimators': [3000],\n",
        "          'max_depth': [3],\n",
        "          'max_features': ['sqrt'],\n",
        "          'min_samples_leaf': [15],\n",
        "          'min_samples_split': [10],\n",
        "          'learning_rate': [0.1],\n",
        "          'loss': ['huber'],\n",
        "          'random_state': [42] }\n",
        "\n",
        "# Create Stratified folds\n",
        "cross_validation = StratifiedKFold(n_splits=3)\n",
        "cross_validation.get_n_splits(X_train_sc, y_train)\n",
        "\n",
        "#reg = Ridge()\n",
        "reg=ensemble.GradientBoostingRegressor()\n",
        "gridsearch = GridSearchCV(reg, param_grid, scoring='r2', cv=5) \n",
        "gridsearch.fit(X_train_sc, y_train)\n",
        "\n",
        "print(\"Best score: {}\".format(gridsearch.best_score_))\n",
        "print(\"Best parameters: {}\".format(gridsearch.best_params_))\n",
        "\n",
        "best_clf = gridsearch.best_estimator_\n",
        "best_clf\n",
        "best_clf.score(X_test_sc, y_test)"
      ],
      "execution_count": null,
      "outputs": [
        {
          "output_type": "stream",
          "text": [
            "Best score: 0.9825190954441853\n",
            "Best parameters: {'learning_rate': 0.1, 'loss': 'huber', 'max_depth': 3, 'max_features': 'sqrt', 'min_samples_leaf': 15, 'min_samples_split': 10, 'n_estimators': 3000, 'random_state': 42}\n"
          ],
          "name": "stdout"
        },
        {
          "output_type": "execute_result",
          "data": {
            "text/plain": [
              "0.9451252853704802"
            ]
          },
          "metadata": {
            "tags": []
          },
          "execution_count": 28
        }
      ]
    },
    {
      "cell_type": "markdown",
      "metadata": {
        "id": "zdUeYTWYHP9Z"
      },
      "source": [
        "# Neural Network (Marco)\n",
        "\n"
      ]
    },
    {
      "cell_type": "code",
      "metadata": {
        "id": "119JvwooHP9a"
      },
      "source": [
        "def make_net(number_features, \n",
        "             hidden_layers=3, \n",
        "             hidden_layer_neurones=128, \n",
        "             dropout=0.0, \n",
        "             learning_rate=0.003):\n",
        "    \n",
        "    # Forse non più necessario, pulisce eventuali rimanenze\n",
        "    K.clear_session()\n",
        "    \n",
        "    # Creo una neural completamente connessa\n",
        "    net = Sequential()\n",
        "    \n",
        "    # For che crea gli strati\n",
        "    for i in range(hidden_layers):\n",
        "        # Tutti gli strati usano ReLu come funzione di attivazione tranne l'output\n",
        "        net.add(Dense(\n",
        "            hidden_layer_neurones, \n",
        "            input_dim=number_features,\n",
        "            activation='relu'))\n",
        "        # Trattamento dell'overfit con dropout (lo aggiungo dopo ogni layer)\n",
        "        # Potrei usare anche tecniche che lo mettono solo in alcuni layers\n",
        "        net.add(Dropout(dropout))\n",
        "    \n",
        "    # Vogliamo una percentuale (vivo/morto) => sigmoide\n",
        "    net.add(Dense(1, activation='linear'))    \n",
        "    \n",
        "    # Sclego adam come scritto nella relazione perchè.\n",
        "    # In sostanza è generalmente il migliore\n",
        "    opt = Adam(lr=learning_rate)\n",
        "    \n",
        "    # Funzione di loss compatibile con il problema di classificazione a 2 valori\n",
        "    #accuracy per poter giudicare come farebbe kaggle\n",
        "    net.compile(loss='mean_squared_error', \n",
        "                optimizer=opt, \n",
        "                metrics=['mse'])\n",
        "    \n",
        "    return net"
      ],
      "execution_count": null,
      "outputs": []
    },
    {
      "cell_type": "markdown",
      "metadata": {
        "id": "t9c3kxCaHP9b"
      },
      "source": [
        "## Cerco di copiare una funzione di valutazione tipo kaggle (accuracy)"
      ]
    },
    {
      "cell_type": "code",
      "metadata": {
        "id": "zUD-M3LSHP9b"
      },
      "source": [
        "def calculate_accuracy(model, X_train_sc, X_test_sc, y_train, y_test):  \n",
        "    \n",
        "    ### Accuracy del train\n",
        "    y_pred_train = model.predict(X_train_sc)\n",
        "    #Serve solo per rendere l'array di dimensione che ci aspettiamo,\n",
        "    #Tensorflow mi da in output qualcosa non uno dimensionale\n",
        "    y_pred_train = y_pred_train.flatten()\n",
        "    error_train = mean_absolute_error(y_pred_train, y_train)\n",
        "    \n",
        "    ### Accuracy del validation\n",
        "    y_pred_test = model.predict(X_test_sc)\n",
        "    y_pred_test = y_pred_test.flatten()\n",
        "    error_test = mean_absolute_error(y_pred_test, y_test)\n",
        "\n",
        "    print (f'Training accuracy {accuracy_train:0.3f}')\n",
        "    print (f'Test accuracy {accuracy_test:0.3f}')"
      ],
      "execution_count": null,
      "outputs": []
    },
    {
      "cell_type": "code",
      "metadata": {
        "id": "4IO-duBkHP9b"
      },
      "source": [
        "def plot_training(history_dict):\n",
        "    loss_values = history_dict['loss']\n",
        "    val_loss_values = history_dict['val_loss']\n",
        "    epochs = range(1, len(loss_values) + 1)\n",
        "\n",
        "    plt.plot(epochs, loss_values, 'bo', label='Train-set mse')\n",
        "    plt.plot(epochs, val_loss_values, 'b', label='Validation-set mse')\n",
        "    plt.title('Prestazioni dell\\' mse')\n",
        "    plt.xlabel('Epoche')\n",
        "    plt.ylabel('mse')\n",
        "    plt.legend()\n",
        "\n",
        "    plt.show()"
      ],
      "execution_count": null,
      "outputs": []
    },
    {
      "cell_type": "markdown",
      "metadata": {
        "id": "34pWODw4HP9c"
      },
      "source": [
        "## Run the model"
      ]
    },
    {
      "cell_type": "code",
      "metadata": {
        "id": "UCBcHU-mHP9c",
        "colab": {
          "base_uri": "https://localhost:8080/"
        },
        "outputId": "9fedf544-30d9-4226-dd91-a41e20f62948"
      },
      "source": [
        "number_features = X_train_sc.shape[1]\n",
        "model = make_net(number_features) #I parametri non definiti useranno val default\n",
        "\n",
        "history = model.fit(X_train_sc,\n",
        "                    y_train,\n",
        "                    epochs=250,\n",
        "                    batch_size=64,\n",
        "                    validation_data=(X_test_sc, y_test),\n",
        "                    verbose=1)"
      ],
      "execution_count": null,
      "outputs": [
        {
          "output_type": "stream",
          "text": [
            "Epoch 1/250\n",
            "183/183 [==============================] - 1s 3ms/step - loss: 0.0113 - mse: 0.0113 - val_loss: 0.0094 - val_mse: 0.0094\n",
            "Epoch 2/250\n",
            "183/183 [==============================] - 0s 2ms/step - loss: 0.0109 - mse: 0.0109 - val_loss: 0.0087 - val_mse: 0.0087\n",
            "Epoch 3/250\n",
            "183/183 [==============================] - 0s 2ms/step - loss: 0.0106 - mse: 0.0106 - val_loss: 0.0091 - val_mse: 0.0091\n",
            "Epoch 4/250\n",
            "183/183 [==============================] - 0s 2ms/step - loss: 0.0106 - mse: 0.0106 - val_loss: 0.0084 - val_mse: 0.0084\n",
            "Epoch 5/250\n",
            "183/183 [==============================] - 0s 3ms/step - loss: 0.0107 - mse: 0.0107 - val_loss: 0.0086 - val_mse: 0.0086\n",
            "Epoch 6/250\n",
            "183/183 [==============================] - 0s 2ms/step - loss: 0.0104 - mse: 0.0104 - val_loss: 0.0084 - val_mse: 0.0084\n",
            "Epoch 7/250\n",
            "183/183 [==============================] - 0s 2ms/step - loss: 0.0104 - mse: 0.0104 - val_loss: 0.0085 - val_mse: 0.0085\n",
            "Epoch 8/250\n",
            "183/183 [==============================] - 0s 2ms/step - loss: 0.0103 - mse: 0.0103 - val_loss: 0.0085 - val_mse: 0.0085\n",
            "Epoch 9/250\n",
            "183/183 [==============================] - 0s 2ms/step - loss: 0.0103 - mse: 0.0103 - val_loss: 0.0084 - val_mse: 0.0084\n",
            "Epoch 10/250\n",
            "183/183 [==============================] - 0s 2ms/step - loss: 0.0104 - mse: 0.0104 - val_loss: 0.0084 - val_mse: 0.0084\n",
            "Epoch 11/250\n",
            "183/183 [==============================] - 0s 2ms/step - loss: 0.0103 - mse: 0.0103 - val_loss: 0.0086 - val_mse: 0.0086\n",
            "Epoch 12/250\n",
            "183/183 [==============================] - 0s 3ms/step - loss: 0.0104 - mse: 0.0104 - val_loss: 0.0085 - val_mse: 0.0085\n",
            "Epoch 13/250\n",
            "183/183 [==============================] - 0s 2ms/step - loss: 0.0103 - mse: 0.0103 - val_loss: 0.0090 - val_mse: 0.0090\n",
            "Epoch 14/250\n",
            "183/183 [==============================] - 0s 2ms/step - loss: 0.0104 - mse: 0.0104 - val_loss: 0.0084 - val_mse: 0.0084\n",
            "Epoch 15/250\n",
            "183/183 [==============================] - 0s 2ms/step - loss: 0.0103 - mse: 0.0103 - val_loss: 0.0087 - val_mse: 0.0087\n",
            "Epoch 16/250\n",
            "183/183 [==============================] - 0s 2ms/step - loss: 0.0103 - mse: 0.0103 - val_loss: 0.0084 - val_mse: 0.0084\n",
            "Epoch 17/250\n",
            "183/183 [==============================] - 0s 2ms/step - loss: 0.0103 - mse: 0.0103 - val_loss: 0.0084 - val_mse: 0.0084\n",
            "Epoch 18/250\n",
            "183/183 [==============================] - 0s 2ms/step - loss: 0.0103 - mse: 0.0103 - val_loss: 0.0085 - val_mse: 0.0085\n",
            "Epoch 19/250\n",
            "183/183 [==============================] - 0s 2ms/step - loss: 0.0103 - mse: 0.0103 - val_loss: 0.0084 - val_mse: 0.0084\n",
            "Epoch 20/250\n",
            "183/183 [==============================] - 0s 2ms/step - loss: 0.0103 - mse: 0.0103 - val_loss: 0.0084 - val_mse: 0.0084\n",
            "Epoch 21/250\n",
            "183/183 [==============================] - 0s 2ms/step - loss: 0.0103 - mse: 0.0103 - val_loss: 0.0087 - val_mse: 0.0087\n",
            "Epoch 22/250\n",
            "183/183 [==============================] - 0s 2ms/step - loss: 0.0103 - mse: 0.0103 - val_loss: 0.0085 - val_mse: 0.0085\n",
            "Epoch 23/250\n",
            "183/183 [==============================] - 0s 2ms/step - loss: 0.0102 - mse: 0.0102 - val_loss: 0.0084 - val_mse: 0.0084\n",
            "Epoch 24/250\n",
            "183/183 [==============================] - 0s 2ms/step - loss: 0.0103 - mse: 0.0103 - val_loss: 0.0086 - val_mse: 0.0086\n",
            "Epoch 25/250\n",
            "183/183 [==============================] - 0s 2ms/step - loss: 0.0103 - mse: 0.0103 - val_loss: 0.0084 - val_mse: 0.0084\n",
            "Epoch 26/250\n",
            "183/183 [==============================] - 0s 2ms/step - loss: 0.0103 - mse: 0.0103 - val_loss: 0.0084 - val_mse: 0.0084\n",
            "Epoch 27/250\n",
            "183/183 [==============================] - 0s 2ms/step - loss: 0.0103 - mse: 0.0103 - val_loss: 0.0083 - val_mse: 0.0083\n",
            "Epoch 28/250\n",
            "183/183 [==============================] - 0s 2ms/step - loss: 0.0103 - mse: 0.0103 - val_loss: 0.0083 - val_mse: 0.0083\n",
            "Epoch 29/250\n",
            "183/183 [==============================] - 0s 2ms/step - loss: 0.0103 - mse: 0.0103 - val_loss: 0.0084 - val_mse: 0.0084\n",
            "Epoch 30/250\n",
            "183/183 [==============================] - 0s 2ms/step - loss: 0.0102 - mse: 0.0102 - val_loss: 0.0083 - val_mse: 0.0083\n",
            "Epoch 31/250\n",
            "183/183 [==============================] - 0s 2ms/step - loss: 0.0103 - mse: 0.0103 - val_loss: 0.0084 - val_mse: 0.0084\n",
            "Epoch 32/250\n",
            "183/183 [==============================] - 0s 2ms/step - loss: 0.0103 - mse: 0.0103 - val_loss: 0.0083 - val_mse: 0.0083\n",
            "Epoch 33/250\n",
            "183/183 [==============================] - 0s 2ms/step - loss: 0.0103 - mse: 0.0103 - val_loss: 0.0084 - val_mse: 0.0084\n",
            "Epoch 34/250\n",
            "183/183 [==============================] - 0s 2ms/step - loss: 0.0103 - mse: 0.0103 - val_loss: 0.0084 - val_mse: 0.0084\n",
            "Epoch 35/250\n",
            "183/183 [==============================] - 0s 2ms/step - loss: 0.0103 - mse: 0.0103 - val_loss: 0.0084 - val_mse: 0.0084\n",
            "Epoch 36/250\n",
            "183/183 [==============================] - 0s 2ms/step - loss: 0.0103 - mse: 0.0103 - val_loss: 0.0085 - val_mse: 0.0085\n",
            "Epoch 37/250\n",
            "183/183 [==============================] - 0s 2ms/step - loss: 0.0102 - mse: 0.0102 - val_loss: 0.0085 - val_mse: 0.0085\n",
            "Epoch 38/250\n",
            "183/183 [==============================] - 0s 2ms/step - loss: 0.0102 - mse: 0.0102 - val_loss: 0.0086 - val_mse: 0.0086\n",
            "Epoch 39/250\n",
            "183/183 [==============================] - 0s 2ms/step - loss: 0.0103 - mse: 0.0103 - val_loss: 0.0083 - val_mse: 0.0083\n",
            "Epoch 40/250\n",
            "183/183 [==============================] - 0s 2ms/step - loss: 0.0102 - mse: 0.0102 - val_loss: 0.0084 - val_mse: 0.0084\n",
            "Epoch 41/250\n",
            "183/183 [==============================] - 0s 2ms/step - loss: 0.0102 - mse: 0.0102 - val_loss: 0.0084 - val_mse: 0.0084\n",
            "Epoch 42/250\n",
            "183/183 [==============================] - 0s 2ms/step - loss: 0.0102 - mse: 0.0102 - val_loss: 0.0083 - val_mse: 0.0083\n",
            "Epoch 43/250\n",
            "183/183 [==============================] - 0s 2ms/step - loss: 0.0102 - mse: 0.0102 - val_loss: 0.0084 - val_mse: 0.0084\n",
            "Epoch 44/250\n",
            "183/183 [==============================] - 0s 2ms/step - loss: 0.0102 - mse: 0.0102 - val_loss: 0.0084 - val_mse: 0.0084\n",
            "Epoch 45/250\n",
            "183/183 [==============================] - 0s 2ms/step - loss: 0.0102 - mse: 0.0102 - val_loss: 0.0083 - val_mse: 0.0083\n",
            "Epoch 46/250\n",
            "183/183 [==============================] - 0s 2ms/step - loss: 0.0102 - mse: 0.0102 - val_loss: 0.0084 - val_mse: 0.0084\n",
            "Epoch 47/250\n",
            "183/183 [==============================] - 0s 2ms/step - loss: 0.0102 - mse: 0.0102 - val_loss: 0.0084 - val_mse: 0.0084\n",
            "Epoch 48/250\n",
            "183/183 [==============================] - 0s 2ms/step - loss: 0.0103 - mse: 0.0103 - val_loss: 0.0083 - val_mse: 0.0083\n",
            "Epoch 49/250\n",
            "183/183 [==============================] - 0s 2ms/step - loss: 0.0102 - mse: 0.0102 - val_loss: 0.0085 - val_mse: 0.0085\n",
            "Epoch 50/250\n",
            "183/183 [==============================] - 0s 2ms/step - loss: 0.0102 - mse: 0.0102 - val_loss: 0.0084 - val_mse: 0.0084\n",
            "Epoch 51/250\n",
            "183/183 [==============================] - 0s 2ms/step - loss: 0.0102 - mse: 0.0102 - val_loss: 0.0085 - val_mse: 0.0085\n",
            "Epoch 52/250\n",
            "183/183 [==============================] - 0s 2ms/step - loss: 0.0103 - mse: 0.0103 - val_loss: 0.0084 - val_mse: 0.0084\n",
            "Epoch 53/250\n",
            "183/183 [==============================] - 0s 2ms/step - loss: 0.0103 - mse: 0.0103 - val_loss: 0.0083 - val_mse: 0.0083\n",
            "Epoch 54/250\n",
            "183/183 [==============================] - 0s 2ms/step - loss: 0.0102 - mse: 0.0102 - val_loss: 0.0084 - val_mse: 0.0084\n",
            "Epoch 55/250\n",
            "183/183 [==============================] - 0s 2ms/step - loss: 0.0102 - mse: 0.0102 - val_loss: 0.0084 - val_mse: 0.0084\n",
            "Epoch 56/250\n",
            "183/183 [==============================] - 0s 2ms/step - loss: 0.0102 - mse: 0.0102 - val_loss: 0.0083 - val_mse: 0.0083\n",
            "Epoch 57/250\n",
            "183/183 [==============================] - 0s 2ms/step - loss: 0.0103 - mse: 0.0103 - val_loss: 0.0083 - val_mse: 0.0083\n",
            "Epoch 58/250\n",
            "183/183 [==============================] - 0s 2ms/step - loss: 0.0102 - mse: 0.0102 - val_loss: 0.0083 - val_mse: 0.0083\n",
            "Epoch 59/250\n",
            "183/183 [==============================] - 0s 2ms/step - loss: 0.0103 - mse: 0.0103 - val_loss: 0.0084 - val_mse: 0.0084\n",
            "Epoch 60/250\n",
            "183/183 [==============================] - 0s 2ms/step - loss: 0.0102 - mse: 0.0102 - val_loss: 0.0083 - val_mse: 0.0083\n",
            "Epoch 61/250\n",
            "183/183 [==============================] - 0s 2ms/step - loss: 0.0101 - mse: 0.0101 - val_loss: 0.0083 - val_mse: 0.0083\n",
            "Epoch 62/250\n",
            "183/183 [==============================] - 0s 2ms/step - loss: 0.0102 - mse: 0.0102 - val_loss: 0.0083 - val_mse: 0.0083\n",
            "Epoch 63/250\n",
            "183/183 [==============================] - 0s 2ms/step - loss: 0.0102 - mse: 0.0102 - val_loss: 0.0082 - val_mse: 0.0082\n",
            "Epoch 64/250\n",
            "183/183 [==============================] - 0s 2ms/step - loss: 0.0102 - mse: 0.0102 - val_loss: 0.0083 - val_mse: 0.0083\n",
            "Epoch 65/250\n",
            "183/183 [==============================] - 0s 2ms/step - loss: 0.0101 - mse: 0.0101 - val_loss: 0.0082 - val_mse: 0.0082\n",
            "Epoch 66/250\n",
            "183/183 [==============================] - 0s 2ms/step - loss: 0.0102 - mse: 0.0102 - val_loss: 0.0084 - val_mse: 0.0084\n",
            "Epoch 67/250\n",
            "183/183 [==============================] - 0s 3ms/step - loss: 0.0102 - mse: 0.0102 - val_loss: 0.0083 - val_mse: 0.0083\n",
            "Epoch 68/250\n",
            "183/183 [==============================] - 0s 2ms/step - loss: 0.0102 - mse: 0.0102 - val_loss: 0.0084 - val_mse: 0.0084\n",
            "Epoch 69/250\n",
            "183/183 [==============================] - 0s 2ms/step - loss: 0.0102 - mse: 0.0102 - val_loss: 0.0084 - val_mse: 0.0084\n",
            "Epoch 70/250\n",
            "183/183 [==============================] - 0s 2ms/step - loss: 0.0101 - mse: 0.0101 - val_loss: 0.0084 - val_mse: 0.0084\n",
            "Epoch 71/250\n",
            "183/183 [==============================] - 0s 2ms/step - loss: 0.0101 - mse: 0.0101 - val_loss: 0.0085 - val_mse: 0.0085\n",
            "Epoch 72/250\n",
            "183/183 [==============================] - 0s 2ms/step - loss: 0.0101 - mse: 0.0101 - val_loss: 0.0085 - val_mse: 0.0085\n",
            "Epoch 73/250\n",
            "183/183 [==============================] - 0s 2ms/step - loss: 0.0102 - mse: 0.0102 - val_loss: 0.0083 - val_mse: 0.0083\n",
            "Epoch 74/250\n",
            "183/183 [==============================] - 0s 2ms/step - loss: 0.0102 - mse: 0.0102 - val_loss: 0.0085 - val_mse: 0.0085\n",
            "Epoch 75/250\n",
            "183/183 [==============================] - 0s 2ms/step - loss: 0.0101 - mse: 0.0101 - val_loss: 0.0083 - val_mse: 0.0083\n",
            "Epoch 76/250\n",
            "183/183 [==============================] - 0s 2ms/step - loss: 0.0101 - mse: 0.0101 - val_loss: 0.0082 - val_mse: 0.0082\n",
            "Epoch 77/250\n",
            "183/183 [==============================] - 0s 2ms/step - loss: 0.0102 - mse: 0.0102 - val_loss: 0.0084 - val_mse: 0.0084\n",
            "Epoch 78/250\n",
            "183/183 [==============================] - 0s 2ms/step - loss: 0.0101 - mse: 0.0101 - val_loss: 0.0083 - val_mse: 0.0083\n",
            "Epoch 79/250\n",
            "183/183 [==============================] - 0s 2ms/step - loss: 0.0101 - mse: 0.0101 - val_loss: 0.0083 - val_mse: 0.0083\n",
            "Epoch 80/250\n",
            "183/183 [==============================] - 0s 2ms/step - loss: 0.0102 - mse: 0.0102 - val_loss: 0.0083 - val_mse: 0.0083\n",
            "Epoch 81/250\n",
            "183/183 [==============================] - 0s 2ms/step - loss: 0.0101 - mse: 0.0101 - val_loss: 0.0083 - val_mse: 0.0083\n",
            "Epoch 82/250\n",
            "183/183 [==============================] - 0s 2ms/step - loss: 0.0102 - mse: 0.0102 - val_loss: 0.0083 - val_mse: 0.0083\n",
            "Epoch 83/250\n",
            "183/183 [==============================] - 0s 2ms/step - loss: 0.0101 - mse: 0.0101 - val_loss: 0.0083 - val_mse: 0.0083\n",
            "Epoch 84/250\n",
            "183/183 [==============================] - 0s 2ms/step - loss: 0.0101 - mse: 0.0101 - val_loss: 0.0082 - val_mse: 0.0082\n",
            "Epoch 85/250\n",
            "183/183 [==============================] - 0s 2ms/step - loss: 0.0102 - mse: 0.0102 - val_loss: 0.0082 - val_mse: 0.0082\n",
            "Epoch 86/250\n",
            "183/183 [==============================] - 0s 2ms/step - loss: 0.0101 - mse: 0.0101 - val_loss: 0.0083 - val_mse: 0.0083\n",
            "Epoch 87/250\n",
            "183/183 [==============================] - 0s 2ms/step - loss: 0.0101 - mse: 0.0101 - val_loss: 0.0083 - val_mse: 0.0083\n",
            "Epoch 88/250\n",
            "183/183 [==============================] - 0s 2ms/step - loss: 0.0102 - mse: 0.0102 - val_loss: 0.0083 - val_mse: 0.0083\n",
            "Epoch 89/250\n",
            "183/183 [==============================] - 0s 2ms/step - loss: 0.0101 - mse: 0.0101 - val_loss: 0.0083 - val_mse: 0.0083\n",
            "Epoch 90/250\n",
            "183/183 [==============================] - 0s 2ms/step - loss: 0.0101 - mse: 0.0101 - val_loss: 0.0083 - val_mse: 0.0083\n",
            "Epoch 91/250\n",
            "183/183 [==============================] - 0s 2ms/step - loss: 0.0101 - mse: 0.0101 - val_loss: 0.0085 - val_mse: 0.0085\n",
            "Epoch 92/250\n",
            "183/183 [==============================] - 0s 2ms/step - loss: 0.0101 - mse: 0.0101 - val_loss: 0.0082 - val_mse: 0.0082\n",
            "Epoch 93/250\n",
            "183/183 [==============================] - 0s 2ms/step - loss: 0.0101 - mse: 0.0101 - val_loss: 0.0082 - val_mse: 0.0082\n",
            "Epoch 94/250\n",
            "183/183 [==============================] - 0s 2ms/step - loss: 0.0101 - mse: 0.0101 - val_loss: 0.0084 - val_mse: 0.0084\n",
            "Epoch 95/250\n",
            "183/183 [==============================] - 0s 2ms/step - loss: 0.0101 - mse: 0.0101 - val_loss: 0.0083 - val_mse: 0.0083\n",
            "Epoch 96/250\n",
            "183/183 [==============================] - 1s 3ms/step - loss: 0.0100 - mse: 0.0100 - val_loss: 0.0083 - val_mse: 0.0083\n",
            "Epoch 97/250\n",
            "183/183 [==============================] - 0s 2ms/step - loss: 0.0101 - mse: 0.0101 - val_loss: 0.0082 - val_mse: 0.0082\n",
            "Epoch 98/250\n",
            "183/183 [==============================] - 0s 2ms/step - loss: 0.0101 - mse: 0.0101 - val_loss: 0.0083 - val_mse: 0.0083\n",
            "Epoch 99/250\n",
            "183/183 [==============================] - 0s 2ms/step - loss: 0.0101 - mse: 0.0101 - val_loss: 0.0083 - val_mse: 0.0083\n",
            "Epoch 100/250\n",
            "183/183 [==============================] - 0s 2ms/step - loss: 0.0102 - mse: 0.0102 - val_loss: 0.0084 - val_mse: 0.0084\n",
            "Epoch 101/250\n",
            "183/183 [==============================] - 0s 2ms/step - loss: 0.0101 - mse: 0.0101 - val_loss: 0.0083 - val_mse: 0.0083\n",
            "Epoch 102/250\n",
            "183/183 [==============================] - 0s 2ms/step - loss: 0.0101 - mse: 0.0101 - val_loss: 0.0083 - val_mse: 0.0083\n",
            "Epoch 103/250\n",
            "183/183 [==============================] - 0s 2ms/step - loss: 0.0100 - mse: 0.0100 - val_loss: 0.0085 - val_mse: 0.0085\n",
            "Epoch 104/250\n",
            "183/183 [==============================] - 0s 2ms/step - loss: 0.0101 - mse: 0.0101 - val_loss: 0.0083 - val_mse: 0.0083\n",
            "Epoch 105/250\n",
            "183/183 [==============================] - 0s 2ms/step - loss: 0.0101 - mse: 0.0101 - val_loss: 0.0084 - val_mse: 0.0084\n",
            "Epoch 106/250\n",
            "183/183 [==============================] - 0s 2ms/step - loss: 0.0101 - mse: 0.0101 - val_loss: 0.0083 - val_mse: 0.0083\n",
            "Epoch 107/250\n",
            "183/183 [==============================] - 0s 2ms/step - loss: 0.0100 - mse: 0.0100 - val_loss: 0.0083 - val_mse: 0.0083\n",
            "Epoch 108/250\n",
            "183/183 [==============================] - 0s 2ms/step - loss: 0.0100 - mse: 0.0100 - val_loss: 0.0082 - val_mse: 0.0082\n",
            "Epoch 109/250\n",
            "183/183 [==============================] - 0s 2ms/step - loss: 0.0100 - mse: 0.0100 - val_loss: 0.0083 - val_mse: 0.0083\n",
            "Epoch 110/250\n",
            "183/183 [==============================] - 0s 2ms/step - loss: 0.0100 - mse: 0.0100 - val_loss: 0.0082 - val_mse: 0.0082\n",
            "Epoch 111/250\n",
            "183/183 [==============================] - 0s 2ms/step - loss: 0.0100 - mse: 0.0100 - val_loss: 0.0084 - val_mse: 0.0084\n",
            "Epoch 112/250\n",
            "183/183 [==============================] - 0s 2ms/step - loss: 0.0100 - mse: 0.0100 - val_loss: 0.0084 - val_mse: 0.0084\n",
            "Epoch 113/250\n",
            "183/183 [==============================] - 0s 2ms/step - loss: 0.0100 - mse: 0.0100 - val_loss: 0.0082 - val_mse: 0.0082\n",
            "Epoch 114/250\n",
            "183/183 [==============================] - 0s 2ms/step - loss: 0.0100 - mse: 0.0100 - val_loss: 0.0084 - val_mse: 0.0084\n",
            "Epoch 115/250\n",
            "183/183 [==============================] - 1s 3ms/step - loss: 0.0101 - mse: 0.0101 - val_loss: 0.0085 - val_mse: 0.0085\n",
            "Epoch 116/250\n",
            "183/183 [==============================] - 0s 2ms/step - loss: 0.0100 - mse: 0.0100 - val_loss: 0.0084 - val_mse: 0.0084\n",
            "Epoch 117/250\n",
            "183/183 [==============================] - 0s 2ms/step - loss: 0.0100 - mse: 0.0100 - val_loss: 0.0083 - val_mse: 0.0083\n",
            "Epoch 118/250\n",
            "183/183 [==============================] - 0s 2ms/step - loss: 0.0099 - mse: 0.0099 - val_loss: 0.0083 - val_mse: 0.0083\n",
            "Epoch 119/250\n",
            "183/183 [==============================] - 0s 2ms/step - loss: 0.0100 - mse: 0.0100 - val_loss: 0.0083 - val_mse: 0.0083\n",
            "Epoch 120/250\n",
            "183/183 [==============================] - 0s 2ms/step - loss: 0.0100 - mse: 0.0100 - val_loss: 0.0084 - val_mse: 0.0084\n",
            "Epoch 121/250\n",
            "183/183 [==============================] - 0s 2ms/step - loss: 0.0100 - mse: 0.0100 - val_loss: 0.0083 - val_mse: 0.0083\n",
            "Epoch 122/250\n",
            "183/183 [==============================] - 0s 2ms/step - loss: 0.0099 - mse: 0.0099 - val_loss: 0.0084 - val_mse: 0.0084\n",
            "Epoch 123/250\n",
            "183/183 [==============================] - 0s 2ms/step - loss: 0.0100 - mse: 0.0100 - val_loss: 0.0083 - val_mse: 0.0083\n",
            "Epoch 124/250\n",
            "183/183 [==============================] - 0s 2ms/step - loss: 0.0100 - mse: 0.0100 - val_loss: 0.0083 - val_mse: 0.0083\n",
            "Epoch 125/250\n",
            "183/183 [==============================] - 0s 2ms/step - loss: 0.0102 - mse: 0.0102 - val_loss: 0.0084 - val_mse: 0.0084\n",
            "Epoch 126/250\n",
            "183/183 [==============================] - 0s 2ms/step - loss: 0.0100 - mse: 0.0100 - val_loss: 0.0084 - val_mse: 0.0084\n",
            "Epoch 127/250\n",
            "183/183 [==============================] - 0s 2ms/step - loss: 0.0100 - mse: 0.0100 - val_loss: 0.0084 - val_mse: 0.0084\n",
            "Epoch 128/250\n",
            "183/183 [==============================] - 0s 2ms/step - loss: 0.0099 - mse: 0.0099 - val_loss: 0.0085 - val_mse: 0.0085\n",
            "Epoch 129/250\n",
            "183/183 [==============================] - 0s 2ms/step - loss: 0.0100 - mse: 0.0100 - val_loss: 0.0083 - val_mse: 0.0083\n",
            "Epoch 130/250\n",
            "183/183 [==============================] - 0s 2ms/step - loss: 0.0100 - mse: 0.0100 - val_loss: 0.0084 - val_mse: 0.0084\n",
            "Epoch 131/250\n",
            "183/183 [==============================] - 0s 2ms/step - loss: 0.0100 - mse: 0.0100 - val_loss: 0.0086 - val_mse: 0.0086\n",
            "Epoch 132/250\n",
            "183/183 [==============================] - 0s 2ms/step - loss: 0.0100 - mse: 0.0100 - val_loss: 0.0083 - val_mse: 0.0083\n",
            "Epoch 133/250\n",
            "183/183 [==============================] - 0s 2ms/step - loss: 0.0099 - mse: 0.0099 - val_loss: 0.0084 - val_mse: 0.0084\n",
            "Epoch 134/250\n",
            "183/183 [==============================] - 0s 2ms/step - loss: 0.0099 - mse: 0.0099 - val_loss: 0.0085 - val_mse: 0.0085\n",
            "Epoch 135/250\n",
            "183/183 [==============================] - 0s 2ms/step - loss: 0.0099 - mse: 0.0099 - val_loss: 0.0083 - val_mse: 0.0083\n",
            "Epoch 136/250\n",
            "183/183 [==============================] - 0s 2ms/step - loss: 0.0099 - mse: 0.0099 - val_loss: 0.0083 - val_mse: 0.0083\n",
            "Epoch 137/250\n",
            "183/183 [==============================] - 0s 2ms/step - loss: 0.0100 - mse: 0.0100 - val_loss: 0.0083 - val_mse: 0.0083\n",
            "Epoch 138/250\n",
            "183/183 [==============================] - 0s 2ms/step - loss: 0.0100 - mse: 0.0100 - val_loss: 0.0086 - val_mse: 0.0086\n",
            "Epoch 139/250\n",
            "183/183 [==============================] - 0s 2ms/step - loss: 0.0101 - mse: 0.0101 - val_loss: 0.0084 - val_mse: 0.0084\n",
            "Epoch 140/250\n",
            "183/183 [==============================] - 0s 2ms/step - loss: 0.0102 - mse: 0.0102 - val_loss: 0.0084 - val_mse: 0.0084\n",
            "Epoch 141/250\n",
            "183/183 [==============================] - 0s 2ms/step - loss: 0.0099 - mse: 0.0099 - val_loss: 0.0086 - val_mse: 0.0086\n",
            "Epoch 142/250\n",
            "183/183 [==============================] - 0s 2ms/step - loss: 0.0099 - mse: 0.0099 - val_loss: 0.0084 - val_mse: 0.0084\n",
            "Epoch 143/250\n",
            "183/183 [==============================] - 0s 2ms/step - loss: 0.0098 - mse: 0.0098 - val_loss: 0.0083 - val_mse: 0.0083\n",
            "Epoch 144/250\n",
            "183/183 [==============================] - 0s 2ms/step - loss: 0.0099 - mse: 0.0099 - val_loss: 0.0084 - val_mse: 0.0084\n",
            "Epoch 145/250\n",
            "183/183 [==============================] - 0s 2ms/step - loss: 0.0098 - mse: 0.0098 - val_loss: 0.0084 - val_mse: 0.0084\n",
            "Epoch 146/250\n",
            "183/183 [==============================] - 0s 2ms/step - loss: 0.0099 - mse: 0.0099 - val_loss: 0.0084 - val_mse: 0.0084\n",
            "Epoch 147/250\n",
            "183/183 [==============================] - 0s 2ms/step - loss: 0.0100 - mse: 0.0100 - val_loss: 0.0083 - val_mse: 0.0083\n",
            "Epoch 148/250\n",
            "183/183 [==============================] - 0s 2ms/step - loss: 0.0099 - mse: 0.0099 - val_loss: 0.0084 - val_mse: 0.0084\n",
            "Epoch 149/250\n",
            "183/183 [==============================] - 0s 2ms/step - loss: 0.0099 - mse: 0.0099 - val_loss: 0.0086 - val_mse: 0.0086\n",
            "Epoch 150/250\n",
            "183/183 [==============================] - 0s 2ms/step - loss: 0.0099 - mse: 0.0099 - val_loss: 0.0084 - val_mse: 0.0084\n",
            "Epoch 151/250\n",
            "183/183 [==============================] - 0s 2ms/step - loss: 0.0099 - mse: 0.0099 - val_loss: 0.0084 - val_mse: 0.0084\n",
            "Epoch 152/250\n",
            "183/183 [==============================] - 0s 2ms/step - loss: 0.0098 - mse: 0.0098 - val_loss: 0.0087 - val_mse: 0.0087\n",
            "Epoch 153/250\n",
            "183/183 [==============================] - 0s 2ms/step - loss: 0.0099 - mse: 0.0099 - val_loss: 0.0083 - val_mse: 0.0083\n",
            "Epoch 154/250\n",
            "183/183 [==============================] - 1s 3ms/step - loss: 0.0098 - mse: 0.0098 - val_loss: 0.0084 - val_mse: 0.0084\n",
            "Epoch 155/250\n",
            "183/183 [==============================] - 0s 2ms/step - loss: 0.0100 - mse: 0.0100 - val_loss: 0.0085 - val_mse: 0.0085\n",
            "Epoch 156/250\n",
            "183/183 [==============================] - 0s 2ms/step - loss: 0.0101 - mse: 0.0101 - val_loss: 0.0083 - val_mse: 0.0083\n",
            "Epoch 157/250\n",
            "183/183 [==============================] - 0s 2ms/step - loss: 0.0099 - mse: 0.0099 - val_loss: 0.0084 - val_mse: 0.0084\n",
            "Epoch 158/250\n",
            "183/183 [==============================] - 0s 2ms/step - loss: 0.0099 - mse: 0.0099 - val_loss: 0.0082 - val_mse: 0.0082\n",
            "Epoch 159/250\n",
            "183/183 [==============================] - 0s 2ms/step - loss: 0.0099 - mse: 0.0099 - val_loss: 0.0084 - val_mse: 0.0084\n",
            "Epoch 160/250\n",
            "183/183 [==============================] - 0s 2ms/step - loss: 0.0099 - mse: 0.0099 - val_loss: 0.0084 - val_mse: 0.0084\n",
            "Epoch 161/250\n",
            "183/183 [==============================] - 0s 2ms/step - loss: 0.0098 - mse: 0.0098 - val_loss: 0.0084 - val_mse: 0.0084\n",
            "Epoch 162/250\n",
            "183/183 [==============================] - 0s 2ms/step - loss: 0.0099 - mse: 0.0099 - val_loss: 0.0087 - val_mse: 0.0087\n",
            "Epoch 163/250\n",
            "183/183 [==============================] - 0s 2ms/step - loss: 0.0098 - mse: 0.0098 - val_loss: 0.0085 - val_mse: 0.0085\n",
            "Epoch 164/250\n",
            "183/183 [==============================] - 0s 2ms/step - loss: 0.0098 - mse: 0.0098 - val_loss: 0.0085 - val_mse: 0.0085\n",
            "Epoch 165/250\n",
            "183/183 [==============================] - 0s 2ms/step - loss: 0.0099 - mse: 0.0099 - val_loss: 0.0084 - val_mse: 0.0084\n",
            "Epoch 166/250\n",
            "183/183 [==============================] - 0s 2ms/step - loss: 0.0098 - mse: 0.0098 - val_loss: 0.0089 - val_mse: 0.0089\n",
            "Epoch 167/250\n",
            "183/183 [==============================] - 0s 2ms/step - loss: 0.0099 - mse: 0.0099 - val_loss: 0.0088 - val_mse: 0.0088\n",
            "Epoch 168/250\n",
            "183/183 [==============================] - 0s 2ms/step - loss: 0.0100 - mse: 0.0100 - val_loss: 0.0083 - val_mse: 0.0083\n",
            "Epoch 169/250\n",
            "183/183 [==============================] - 0s 2ms/step - loss: 0.0099 - mse: 0.0099 - val_loss: 0.0085 - val_mse: 0.0085\n",
            "Epoch 170/250\n",
            "183/183 [==============================] - 0s 2ms/step - loss: 0.0099 - mse: 0.0099 - val_loss: 0.0085 - val_mse: 0.0085\n",
            "Epoch 171/250\n",
            "183/183 [==============================] - 0s 2ms/step - loss: 0.0098 - mse: 0.0098 - val_loss: 0.0085 - val_mse: 0.0085\n",
            "Epoch 172/250\n",
            "183/183 [==============================] - 0s 2ms/step - loss: 0.0098 - mse: 0.0098 - val_loss: 0.0085 - val_mse: 0.0085\n",
            "Epoch 173/250\n",
            "183/183 [==============================] - 0s 2ms/step - loss: 0.0098 - mse: 0.0098 - val_loss: 0.0081 - val_mse: 0.0081\n",
            "Epoch 174/250\n",
            "183/183 [==============================] - 0s 2ms/step - loss: 0.0099 - mse: 0.0099 - val_loss: 0.0085 - val_mse: 0.0085\n",
            "Epoch 175/250\n",
            "183/183 [==============================] - 1s 3ms/step - loss: 0.0098 - mse: 0.0098 - val_loss: 0.0084 - val_mse: 0.0084\n",
            "Epoch 176/250\n",
            "183/183 [==============================] - 0s 2ms/step - loss: 0.0098 - mse: 0.0098 - val_loss: 0.0084 - val_mse: 0.0084\n",
            "Epoch 177/250\n",
            "183/183 [==============================] - 0s 2ms/step - loss: 0.0099 - mse: 0.0099 - val_loss: 0.0085 - val_mse: 0.0085\n",
            "Epoch 178/250\n",
            "183/183 [==============================] - 0s 2ms/step - loss: 0.0101 - mse: 0.0101 - val_loss: 0.0085 - val_mse: 0.0085\n",
            "Epoch 179/250\n",
            "183/183 [==============================] - 0s 2ms/step - loss: 0.0100 - mse: 0.0100 - val_loss: 0.0086 - val_mse: 0.0086\n",
            "Epoch 180/250\n",
            "183/183 [==============================] - 0s 2ms/step - loss: 0.0099 - mse: 0.0099 - val_loss: 0.0084 - val_mse: 0.0084\n",
            "Epoch 181/250\n",
            "183/183 [==============================] - 0s 3ms/step - loss: 0.0099 - mse: 0.0099 - val_loss: 0.0083 - val_mse: 0.0083\n",
            "Epoch 182/250\n",
            "183/183 [==============================] - 0s 2ms/step - loss: 0.0099 - mse: 0.0099 - val_loss: 0.0083 - val_mse: 0.0083\n",
            "Epoch 183/250\n",
            "183/183 [==============================] - 0s 2ms/step - loss: 0.0098 - mse: 0.0098 - val_loss: 0.0084 - val_mse: 0.0084\n",
            "Epoch 184/250\n",
            "183/183 [==============================] - 0s 2ms/step - loss: 0.0098 - mse: 0.0098 - val_loss: 0.0085 - val_mse: 0.0085\n",
            "Epoch 185/250\n",
            "183/183 [==============================] - 0s 2ms/step - loss: 0.0098 - mse: 0.0098 - val_loss: 0.0084 - val_mse: 0.0084\n",
            "Epoch 186/250\n",
            "183/183 [==============================] - 0s 2ms/step - loss: 0.0098 - mse: 0.0098 - val_loss: 0.0085 - val_mse: 0.0085\n",
            "Epoch 187/250\n",
            "183/183 [==============================] - 0s 2ms/step - loss: 0.0098 - mse: 0.0098 - val_loss: 0.0084 - val_mse: 0.0084\n",
            "Epoch 188/250\n",
            "183/183 [==============================] - 0s 2ms/step - loss: 0.0100 - mse: 0.0100 - val_loss: 0.0084 - val_mse: 0.0084\n",
            "Epoch 189/250\n",
            "183/183 [==============================] - 0s 2ms/step - loss: 0.0098 - mse: 0.0098 - val_loss: 0.0085 - val_mse: 0.0085\n",
            "Epoch 190/250\n",
            "183/183 [==============================] - 1s 3ms/step - loss: 0.0098 - mse: 0.0098 - val_loss: 0.0083 - val_mse: 0.0083\n",
            "Epoch 191/250\n",
            "183/183 [==============================] - 0s 2ms/step - loss: 0.0098 - mse: 0.0098 - val_loss: 0.0085 - val_mse: 0.0085\n",
            "Epoch 192/250\n",
            "183/183 [==============================] - 0s 2ms/step - loss: 0.0098 - mse: 0.0098 - val_loss: 0.0085 - val_mse: 0.0085\n",
            "Epoch 193/250\n",
            "183/183 [==============================] - 1s 3ms/step - loss: 0.0099 - mse: 0.0099 - val_loss: 0.0085 - val_mse: 0.0085\n",
            "Epoch 194/250\n",
            "183/183 [==============================] - 0s 2ms/step - loss: 0.0100 - mse: 0.0100 - val_loss: 0.0084 - val_mse: 0.0084\n",
            "Epoch 195/250\n",
            "183/183 [==============================] - 0s 2ms/step - loss: 0.0098 - mse: 0.0098 - val_loss: 0.0084 - val_mse: 0.0084\n",
            "Epoch 196/250\n",
            "183/183 [==============================] - 1s 3ms/step - loss: 0.0098 - mse: 0.0098 - val_loss: 0.0085 - val_mse: 0.0085\n",
            "Epoch 197/250\n",
            "183/183 [==============================] - 0s 2ms/step - loss: 0.0098 - mse: 0.0098 - val_loss: 0.0084 - val_mse: 0.0084\n",
            "Epoch 198/250\n",
            "183/183 [==============================] - 0s 2ms/step - loss: 0.0098 - mse: 0.0098 - val_loss: 0.0083 - val_mse: 0.0083\n",
            "Epoch 199/250\n",
            "183/183 [==============================] - 0s 2ms/step - loss: 0.0098 - mse: 0.0098 - val_loss: 0.0083 - val_mse: 0.0083\n",
            "Epoch 200/250\n",
            "183/183 [==============================] - 0s 2ms/step - loss: 0.0099 - mse: 0.0099 - val_loss: 0.0085 - val_mse: 0.0085\n",
            "Epoch 201/250\n",
            "183/183 [==============================] - 0s 2ms/step - loss: 0.0098 - mse: 0.0098 - val_loss: 0.0084 - val_mse: 0.0084\n",
            "Epoch 202/250\n",
            "183/183 [==============================] - 0s 2ms/step - loss: 0.0098 - mse: 0.0098 - val_loss: 0.0084 - val_mse: 0.0084\n",
            "Epoch 203/250\n",
            "183/183 [==============================] - 1s 3ms/step - loss: 0.0098 - mse: 0.0098 - val_loss: 0.0086 - val_mse: 0.0086\n",
            "Epoch 204/250\n",
            "183/183 [==============================] - 0s 2ms/step - loss: 0.0098 - mse: 0.0098 - val_loss: 0.0085 - val_mse: 0.0085\n",
            "Epoch 205/250\n",
            "183/183 [==============================] - 0s 2ms/step - loss: 0.0098 - mse: 0.0098 - val_loss: 0.0083 - val_mse: 0.0083\n",
            "Epoch 206/250\n",
            "183/183 [==============================] - 0s 2ms/step - loss: 0.0098 - mse: 0.0098 - val_loss: 0.0086 - val_mse: 0.0086\n",
            "Epoch 207/250\n",
            "183/183 [==============================] - 0s 2ms/step - loss: 0.0098 - mse: 0.0098 - val_loss: 0.0085 - val_mse: 0.0085\n",
            "Epoch 208/250\n",
            "183/183 [==============================] - 0s 3ms/step - loss: 0.0099 - mse: 0.0099 - val_loss: 0.0083 - val_mse: 0.0083\n",
            "Epoch 209/250\n",
            "183/183 [==============================] - 0s 2ms/step - loss: 0.0099 - mse: 0.0099 - val_loss: 0.0085 - val_mse: 0.0085\n",
            "Epoch 210/250\n",
            "183/183 [==============================] - 0s 2ms/step - loss: 0.0098 - mse: 0.0098 - val_loss: 0.0087 - val_mse: 0.0087\n",
            "Epoch 211/250\n",
            "183/183 [==============================] - 0s 2ms/step - loss: 0.0098 - mse: 0.0098 - val_loss: 0.0084 - val_mse: 0.0084\n",
            "Epoch 212/250\n",
            "183/183 [==============================] - 1s 3ms/step - loss: 0.0099 - mse: 0.0099 - val_loss: 0.0083 - val_mse: 0.0083\n",
            "Epoch 213/250\n",
            "183/183 [==============================] - 0s 2ms/step - loss: 0.0099 - mse: 0.0099 - val_loss: 0.0083 - val_mse: 0.0083\n",
            "Epoch 214/250\n",
            "183/183 [==============================] - 0s 2ms/step - loss: 0.0098 - mse: 0.0098 - val_loss: 0.0085 - val_mse: 0.0085\n",
            "Epoch 215/250\n",
            "183/183 [==============================] - 0s 2ms/step - loss: 0.0098 - mse: 0.0098 - val_loss: 0.0085 - val_mse: 0.0085\n",
            "Epoch 216/250\n",
            "183/183 [==============================] - 0s 2ms/step - loss: 0.0097 - mse: 0.0097 - val_loss: 0.0085 - val_mse: 0.0085\n",
            "Epoch 217/250\n",
            "183/183 [==============================] - 0s 2ms/step - loss: 0.0097 - mse: 0.0097 - val_loss: 0.0084 - val_mse: 0.0084\n",
            "Epoch 218/250\n",
            "183/183 [==============================] - 0s 2ms/step - loss: 0.0098 - mse: 0.0098 - val_loss: 0.0084 - val_mse: 0.0084\n",
            "Epoch 219/250\n",
            "183/183 [==============================] - 0s 2ms/step - loss: 0.0098 - mse: 0.0098 - val_loss: 0.0085 - val_mse: 0.0085\n",
            "Epoch 220/250\n",
            "183/183 [==============================] - 0s 2ms/step - loss: 0.0098 - mse: 0.0098 - val_loss: 0.0085 - val_mse: 0.0085\n",
            "Epoch 221/250\n",
            "183/183 [==============================] - 0s 2ms/step - loss: 0.0098 - mse: 0.0098 - val_loss: 0.0084 - val_mse: 0.0084\n",
            "Epoch 222/250\n",
            "183/183 [==============================] - 0s 2ms/step - loss: 0.0099 - mse: 0.0099 - val_loss: 0.0085 - val_mse: 0.0085\n",
            "Epoch 223/250\n",
            "183/183 [==============================] - 1s 3ms/step - loss: 0.0098 - mse: 0.0098 - val_loss: 0.0086 - val_mse: 0.0086\n",
            "Epoch 224/250\n",
            "183/183 [==============================] - 0s 2ms/step - loss: 0.0098 - mse: 0.0098 - val_loss: 0.0084 - val_mse: 0.0084\n",
            "Epoch 225/250\n",
            "183/183 [==============================] - 0s 2ms/step - loss: 0.0098 - mse: 0.0098 - val_loss: 0.0085 - val_mse: 0.0085\n",
            "Epoch 226/250\n",
            "183/183 [==============================] - 0s 2ms/step - loss: 0.0098 - mse: 0.0098 - val_loss: 0.0086 - val_mse: 0.0086\n",
            "Epoch 227/250\n",
            "183/183 [==============================] - 0s 2ms/step - loss: 0.0098 - mse: 0.0098 - val_loss: 0.0086 - val_mse: 0.0086\n",
            "Epoch 228/250\n",
            "183/183 [==============================] - 0s 2ms/step - loss: 0.0099 - mse: 0.0099 - val_loss: 0.0086 - val_mse: 0.0086\n",
            "Epoch 229/250\n",
            "183/183 [==============================] - 0s 2ms/step - loss: 0.0098 - mse: 0.0098 - val_loss: 0.0085 - val_mse: 0.0085\n",
            "Epoch 230/250\n",
            "183/183 [==============================] - 0s 2ms/step - loss: 0.0100 - mse: 0.0100 - val_loss: 0.0087 - val_mse: 0.0087\n",
            "Epoch 231/250\n",
            "183/183 [==============================] - 0s 2ms/step - loss: 0.0098 - mse: 0.0098 - val_loss: 0.0087 - val_mse: 0.0087\n",
            "Epoch 232/250\n",
            "183/183 [==============================] - 0s 2ms/step - loss: 0.0098 - mse: 0.0098 - val_loss: 0.0083 - val_mse: 0.0083\n",
            "Epoch 233/250\n",
            "183/183 [==============================] - 0s 2ms/step - loss: 0.0098 - mse: 0.0098 - val_loss: 0.0085 - val_mse: 0.0085\n",
            "Epoch 234/250\n",
            "183/183 [==============================] - 0s 2ms/step - loss: 0.0097 - mse: 0.0097 - val_loss: 0.0084 - val_mse: 0.0084\n",
            "Epoch 235/250\n",
            "183/183 [==============================] - 0s 2ms/step - loss: 0.0097 - mse: 0.0097 - val_loss: 0.0085 - val_mse: 0.0085\n",
            "Epoch 236/250\n",
            "183/183 [==============================] - 0s 2ms/step - loss: 0.0098 - mse: 0.0098 - val_loss: 0.0085 - val_mse: 0.0085\n",
            "Epoch 237/250\n",
            "183/183 [==============================] - 0s 2ms/step - loss: 0.0097 - mse: 0.0097 - val_loss: 0.0088 - val_mse: 0.0088\n",
            "Epoch 238/250\n",
            "183/183 [==============================] - 0s 2ms/step - loss: 0.0098 - mse: 0.0098 - val_loss: 0.0084 - val_mse: 0.0084\n",
            "Epoch 239/250\n",
            "183/183 [==============================] - 0s 2ms/step - loss: 0.0098 - mse: 0.0098 - val_loss: 0.0084 - val_mse: 0.0084\n",
            "Epoch 240/250\n",
            "183/183 [==============================] - 0s 2ms/step - loss: 0.0097 - mse: 0.0097 - val_loss: 0.0084 - val_mse: 0.0084\n",
            "Epoch 241/250\n",
            "183/183 [==============================] - 0s 2ms/step - loss: 0.0098 - mse: 0.0098 - val_loss: 0.0085 - val_mse: 0.0085\n",
            "Epoch 242/250\n",
            "183/183 [==============================] - 0s 2ms/step - loss: 0.0100 - mse: 0.0100 - val_loss: 0.0084 - val_mse: 0.0084\n",
            "Epoch 243/250\n",
            "183/183 [==============================] - 0s 2ms/step - loss: 0.0098 - mse: 0.0098 - val_loss: 0.0086 - val_mse: 0.0086\n",
            "Epoch 244/250\n",
            "183/183 [==============================] - 0s 2ms/step - loss: 0.0097 - mse: 0.0097 - val_loss: 0.0086 - val_mse: 0.0086\n",
            "Epoch 245/250\n",
            "183/183 [==============================] - 0s 2ms/step - loss: 0.0098 - mse: 0.0098 - val_loss: 0.0084 - val_mse: 0.0084\n",
            "Epoch 246/250\n",
            "183/183 [==============================] - 0s 3ms/step - loss: 0.0097 - mse: 0.0097 - val_loss: 0.0086 - val_mse: 0.0086\n",
            "Epoch 247/250\n",
            "183/183 [==============================] - 0s 2ms/step - loss: 0.0098 - mse: 0.0098 - val_loss: 0.0085 - val_mse: 0.0085\n",
            "Epoch 248/250\n",
            "183/183 [==============================] - 1s 3ms/step - loss: 0.0098 - mse: 0.0098 - val_loss: 0.0085 - val_mse: 0.0085\n",
            "Epoch 249/250\n",
            "183/183 [==============================] - 0s 2ms/step - loss: 0.0100 - mse: 0.0100 - val_loss: 0.0088 - val_mse: 0.0088\n",
            "Epoch 250/250\n",
            "183/183 [==============================] - 0s 2ms/step - loss: 0.0099 - mse: 0.0099 - val_loss: 0.0082 - val_mse: 0.0082\n"
          ],
          "name": "stdout"
        }
      ]
    },
    {
      "cell_type": "code",
      "metadata": {
        "id": "nLRC0OnuHP9d",
        "colab": {
          "base_uri": "https://localhost:8080/",
          "height": 295
        },
        "outputId": "2545cb55-8c92-4afe-df54-8742756b4158"
      },
      "source": [
        "plot_training(history.history)"
      ],
      "execution_count": null,
      "outputs": [
        {
          "output_type": "display_data",
          "data": {
            "image/png": "[encoded data removed]",
            "text/plain": [
              "<Figure size 432x288 with 1 Axes>"
            ]
          },
          "metadata": {
            "tags": [],
            "needs_background": "light"
          }
        }
      ]
    },
    {
      "cell_type": "markdown",
      "metadata": {
        "id": "jkubxmVYHP9d"
      },
      "source": [
        "## Provo a ridurre l'overfit"
      ]
    },
    {
      "cell_type": "markdown",
      "metadata": {
        "id": "xrP8NU8fHP9d"
      },
      "source": [
        "### 1) Alleggerisco il modello\n"
      ]
    },
    {
      "cell_type": "code",
      "metadata": {
        "id": "sC04kB75HP9d"
      },
      "source": [
        "number_features = X_train_sc.shape[1]\n",
        "model = make_net(number_features,\n",
        "                hidden_layers=1,\n",
        "                hidden_layer_neurones=32)\n",
        "\n",
        "history = model.fit(X_train_sc,\n",
        "                    y_train,\n",
        "                    epochs=250,\n",
        "                    batch_size=64,\n",
        "                    validation_data=(X_test_sc, y_test),\n",
        "                    verbose=0)"
      ],
      "execution_count": null,
      "outputs": []
    },
    {
      "cell_type": "code",
      "metadata": {
        "id": "hD2c5mCkHP9d",
        "colab": {
          "base_uri": "https://localhost:8080/"
        },
        "outputId": "89f7ffd5-ad81-45ad-a304-33a829959c83"
      },
      "source": [
        "calculate_accuracy(model, X_train_sc, X_test_sc, y_train, y_test)"
      ],
      "execution_count": null,
      "outputs": [
        {
          "output_type": "stream",
          "text": [
            "Training accuracy 0.876\n",
            "Test accuracy 0.807\n"
          ],
          "name": "stdout"
        }
      ]
    },
    {
      "cell_type": "code",
      "metadata": {
        "id": "bSwtJdSxHP9e",
        "colab": {
          "base_uri": "https://localhost:8080/",
          "height": 295
        },
        "outputId": "dc78b6f1-0e6c-43bd-af10-114eca0d5b04"
      },
      "source": [
        "plot_training(history.history)"
      ],
      "execution_count": null,
      "outputs": [
        {
          "output_type": "display_data",
          "data": {
            "image/png": "[encoded data removed]",
            "text/plain": [
              "<Figure size 432x288 with 1 Axes>"
            ]
          },
          "metadata": {
            "tags": [],
            "needs_background": "light"
          }
        }
      ]
    },
    {
      "cell_type": "markdown",
      "metadata": {
        "id": "VbBqhMFQHP9e"
      },
      "source": [
        "### 2) Mi fermo prima con le epoche"
      ]
    },
    {
      "cell_type": "code",
      "metadata": {
        "id": "bAHAf4utHP9e"
      },
      "source": [
        "number_features = X_train_sc.shape[1]\n",
        "model = make_net(number_features)\n",
        "\n",
        "history = model.fit(X_train_sc,\n",
        "                    y_train,\n",
        "                    epochs=25,\n",
        "                    batch_size=64,\n",
        "                    validation_data=(X_test_sc, y_test),\n",
        "                    verbose=0)"
      ],
      "execution_count": null,
      "outputs": []
    },
    {
      "cell_type": "code",
      "metadata": {
        "id": "pVxy9bFOHP9e",
        "colab": {
          "base_uri": "https://localhost:8080/"
        },
        "outputId": "84b264e3-66b8-4fbf-d9a8-bd1011d20796"
      },
      "source": [
        "calculate_accuracy(model, X_train_sc, X_test_sc, y_train, y_test)"
      ],
      "execution_count": null,
      "outputs": [
        {
          "output_type": "stream",
          "text": [
            "Training accuracy 0.868\n",
            "Test accuracy 0.803\n"
          ],
          "name": "stdout"
        }
      ]
    },
    {
      "cell_type": "code",
      "metadata": {
        "id": "qDaOWrz9HP9e",
        "colab": {
          "base_uri": "https://localhost:8080/",
          "height": 295
        },
        "outputId": "1850ac72-8f54-40cb-ba6a-5f697040c8ba"
      },
      "source": [
        "plot_training(history.history)"
      ],
      "execution_count": null,
      "outputs": [
        {
          "output_type": "display_data",
          "data": {
            "image/png": "[encoded data removed]",
            "text/plain": [
              "<Figure size 432x288 with 1 Axes>"
            ]
          },
          "metadata": {
            "tags": [],
            "needs_background": "light"
          }
        }
      ]
    },
    {
      "cell_type": "markdown",
      "metadata": {
        "id": "NPHRqf9fHP9f"
      },
      "source": [
        "### 3) Aggiungo i dropout"
      ]
    },
    {
      "cell_type": "code",
      "metadata": {
        "id": "pRQ4-2AeHP9f"
      },
      "source": [
        "number_features = X_train_sc.shape[1]\n",
        "model = make_net(number_features,\n",
        "                dropout=0.5)\n",
        "\n",
        "history = model.fit(X_train_sc,\n",
        "                    y_train,\n",
        "                    epochs=250,\n",
        "                    batch_size=64,\n",
        "                    validation_data=(X_test_sc, y_test),\n",
        "                    verbose=0)"
      ],
      "execution_count": null,
      "outputs": []
    },
    {
      "cell_type": "code",
      "metadata": {
        "id": "pTMHuxQiHP9f",
        "colab": {
          "base_uri": "https://localhost:8080/"
        },
        "outputId": "4494e043-c8c0-4555-9492-e63fba32e196"
      },
      "source": [
        "calculate_accuracy(model, X_train_sc, X_test_sc, y_train, y_test)"
      ],
      "execution_count": null,
      "outputs": [
        {
          "output_type": "stream",
          "text": [
            "Training accuracy 0.894\n",
            "Test accuracy 0.794\n"
          ],
          "name": "stdout"
        }
      ]
    },
    {
      "cell_type": "code",
      "metadata": {
        "id": "EU8HWtUqHP9f",
        "colab": {
          "base_uri": "https://localhost:8080/",
          "height": 295
        },
        "outputId": "5e27082f-cb13-4d50-ce7c-8466f153e0dc"
      },
      "source": [
        "plot_training(history.history)"
      ],
      "execution_count": null,
      "outputs": [
        {
          "output_type": "display_data",
          "data": {
            "image/png": "[encoded data removed]",
            "text/plain": [
              "<Figure size 432x288 with 1 Axes>"
            ]
          },
          "metadata": {
            "tags": [],
            "needs_background": "light"
          }
        }
      ]
    },
    {
      "cell_type": "markdown",
      "metadata": {
        "id": "2epK6POTHP9g"
      },
      "source": [
        "### 5) Unisco varie tecniche sopra, più mi faccio aiutare da keras per interrompere quando raggiungo il picco (aggiungendo un piccolo momentum per non fermarmi in un minimo locale)"
      ]
    },
    {
      "cell_type": "code",
      "metadata": {
        "id": "0rhjS2n1HP9g"
      },
      "source": [
        "# Chiedo a keras di fermarsi quando trova un massimo\n",
        "# Provo 25 epoche dopo il massimo per verificare di non essere in un max locale\n",
        "early_stopping_cb = keras.callbacks.EarlyStopping(\n",
        "    patience=25, restore_best_weights=True)\n",
        "\n",
        "number_features = X_train_sc.shape[1]\n",
        "model = make_net(\n",
        "    number_features,\n",
        "    hidden_layers=2,\n",
        "    hidden_layer_neurones=64,\n",
        "    dropout=0.3)\n",
        "\n",
        "history = model.fit(X_train_sc,\n",
        "                    y_train,\n",
        "                    epochs=250,\n",
        "                    batch_size=64,\n",
        "                    validation_data=(X_test_sc, y_test),\n",
        "                    verbose=0,\n",
        "                    callbacks=[early_stopping_cb])"
      ],
      "execution_count": null,
      "outputs": []
    },
    {
      "cell_type": "code",
      "metadata": {
        "id": "iELwVVOcHP9g",
        "colab": {
          "base_uri": "https://localhost:8080/"
        },
        "outputId": "15411f2b-e2ec-47ab-c2bc-254e505f6690"
      },
      "source": [
        "calculate_accuracy(model, X_train_sc, X_test_sc, y_train, y_test)"
      ],
      "execution_count": null,
      "outputs": [
        {
          "output_type": "stream",
          "text": [
            "Training accuracy 0.837\n",
            "Test accuracy 0.807\n"
          ],
          "name": "stdout"
        }
      ]
    },
    {
      "cell_type": "code",
      "metadata": {
        "id": "KcU02xWyHP9g",
        "colab": {
          "base_uri": "https://localhost:8080/",
          "height": 295
        },
        "outputId": "f737e982-f7c7-4840-f2c5-97901aa17303"
      },
      "source": [
        "plot_training(history.history)"
      ],
      "execution_count": null,
      "outputs": [
        {
          "output_type": "display_data",
          "data": {
            "image/png": "[encoded data removed]",
            "text/plain": [
              "<Figure size 432x288 with 1 Axes>"
            ]
          },
          "metadata": {
            "tags": [],
            "needs_background": "light"
          }
        }
      ]
    },
    {
      "cell_type": "markdown",
      "metadata": {
        "id": "3m_gpu2JHP9g"
      },
      "source": [
        "## Salvo il modello (colab lo cancella bisogna scaricarlo)"
      ]
    },
    {
      "cell_type": "code",
      "metadata": {
        "id": "xhGhjKWMHP9h",
        "colab": {
          "base_uri": "https://localhost:8080/"
        },
        "outputId": "85c057eb-4e95-4674-dafb-0c79d5ebc86d"
      },
      "source": [
        "model.save('titanic_tf_model.h5')\n",
        "\n",
        "# Load and use saved model - we need to first set up a model\n",
        "restored_model = keras.models.load_model('titanic_tf_model.h5')\n",
        " \n",
        "# Predict classes as normal\n",
        "predicted_proba = restored_model.predict(X_test_sc)\n",
        "\n",
        "# Show examples of predicted probability\n",
        "print(predicted_proba[0:5].flatten())"
      ],
      "execution_count": null,
      "outputs": [
        {
          "output_type": "stream",
          "text": [
            "[0.12492877 0.14467469 0.15842554 0.8935989  0.60607624]\n"
          ],
          "name": "stdout"
        }
      ]
    },
    {
      "cell_type": "code",
      "metadata": {
        "id": "nDPjKTf9HP9h",
        "colab": {
          "base_uri": "https://localhost:8080/"
        },
        "outputId": "9aa30944-953e-43d8-e626-3e2b722cd480"
      },
      "source": [
        "calculate_accuracy(restored_model, X_train_sc, X_test_sc, y_train, y_test)"
      ],
      "execution_count": null,
      "outputs": [
        {
          "output_type": "stream",
          "text": [
            "Training accuracy 0.837\n",
            "Test accuracy 0.807\n"
          ],
          "name": "stdout"
        }
      ]
    },
    {
      "cell_type": "code",
      "metadata": {
        "id": "v3IXHJO8QPW4"
      },
      "source": [
        "sub = pd.DataFrame(columns=['PassengerId','Survived'])\n",
        "prova=pd.read_csv('https://raw.githubusercontent.com/marcosarto/titanicML/main/neural_network/test.csv')\n",
        "passengerId=prova['PassengerId']\n",
        "probability = restored_model.predict(marcello_sc)\n",
        "y_test_pred = probability.flatten()\n",
        "y_test_pred = np.around(y_test_pred)\n",
        "y_test_pred = y_test_pred.astype(int)\n",
        "kaggle = pd.DataFrame({'PassengerId': passengerId, 'Survived': y_test_pred})\n",
        "kaggle.to_csv('Neural.csv', index=False)"
      ],
      "execution_count": null,
      "outputs": []
    }
  ]
}